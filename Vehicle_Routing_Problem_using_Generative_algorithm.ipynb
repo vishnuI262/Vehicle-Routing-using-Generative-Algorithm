{
  "nbformat": 4,
  "nbformat_minor": 0,
  "metadata": {
    "colab": {
      "provenance": []
    },
    "kernelspec": {
      "name": "python3",
      "display_name": "Python 3"
    },
    "language_info": {
      "name": "python"
    }
  },
  "cells": [
    {
      "cell_type": "code",
      "execution_count": null,
      "metadata": {
        "id": "5puGjqHgMnx9",
        "colab": {
          "base_uri": "https://localhost:8080/"
        },
        "outputId": "cda0da22-17c0-4f40-99a1-c5ddb2f07f46"
      },
      "outputs": [
        {
          "output_type": "stream",
          "name": "stdout",
          "text": [
            "Requirement already satisfied: matplotlib in /usr/local/lib/python3.10/dist-packages (3.10.0)\n",
            "Collecting deap\n",
            "  Downloading deap-1.4.1-cp310-cp310-manylinux_2_5_x86_64.manylinux1_x86_64.manylinux_2_17_x86_64.manylinux2014_x86_64.whl.metadata (13 kB)\n",
            "Requirement already satisfied: contourpy>=1.0.1 in /usr/local/lib/python3.10/dist-packages (from matplotlib) (1.3.1)\n",
            "Requirement already satisfied: cycler>=0.10 in /usr/local/lib/python3.10/dist-packages (from matplotlib) (0.12.1)\n",
            "Requirement already satisfied: fonttools>=4.22.0 in /usr/local/lib/python3.10/dist-packages (from matplotlib) (4.55.3)\n",
            "Requirement already satisfied: kiwisolver>=1.3.1 in /usr/local/lib/python3.10/dist-packages (from matplotlib) (1.4.8)\n",
            "Requirement already satisfied: numpy>=1.23 in /usr/local/lib/python3.10/dist-packages (from matplotlib) (1.26.4)\n",
            "Requirement already satisfied: packaging>=20.0 in /usr/local/lib/python3.10/dist-packages (from matplotlib) (24.2)\n",
            "Requirement already satisfied: pillow>=8 in /usr/local/lib/python3.10/dist-packages (from matplotlib) (11.1.0)\n",
            "Requirement already satisfied: pyparsing>=2.3.1 in /usr/local/lib/python3.10/dist-packages (from matplotlib) (3.2.1)\n",
            "Requirement already satisfied: python-dateutil>=2.7 in /usr/local/lib/python3.10/dist-packages (from matplotlib) (2.8.2)\n",
            "Requirement already satisfied: six>=1.5 in /usr/local/lib/python3.10/dist-packages (from python-dateutil>=2.7->matplotlib) (1.17.0)\n",
            "Downloading deap-1.4.1-cp310-cp310-manylinux_2_5_x86_64.manylinux1_x86_64.manylinux_2_17_x86_64.manylinux2014_x86_64.whl (135 kB)\n",
            "\u001b[2K   \u001b[90m━━━━━━━━━━━━━━━━━━━━━━━━━━━━━━━━━━━━━━━━\u001b[0m \u001b[32m135.4/135.4 kB\u001b[0m \u001b[31m4.4 MB/s\u001b[0m eta \u001b[36m0:00:00\u001b[0m\n",
            "\u001b[?25hInstalling collected packages: deap\n",
            "Successfully installed deap-1.4.1\n"
          ]
        }
      ],
      "source": [
        "#TASK 1 - Install matplotlib and deap\n",
        "#       - Import all necessary libraries\n",
        "\n",
        "!pip install matplotlib deap"
      ]
    },
    {
      "cell_type": "code",
      "source": [
        "import random\n",
        "import numpy as np\n",
        "import matplotlib.pyplot as plt\n",
        "from deap import base, creator, tools, algorithms"
      ],
      "metadata": {
        "id": "cvhdGzZKQvEb"
      },
      "execution_count": null,
      "outputs": []
    },
    {
      "cell_type": "code",
      "source": [
        "# TODO: Task 2 - Define the number of locations and vehicles\n",
        "# Task 2 - Define the number of locations and vehicles\n",
        "\n",
        "# Define the number of locations (eg 10)\n",
        "num_locations = 10\n",
        "# Create a list of tuples representing location coordinates -\n",
        "# try to use a random number generator\n",
        "# (x, y) could be between 0 and 100\n",
        "locations = [(random.randint(0, 100), random.randint(0, 100)) for i in range(num_locations)]\n",
        "# Define the coordinates for the depot\n",
        "depot = (50,50)\n",
        "# Define the number of vehicles - (eg 3)\n",
        "num_vehicles = 3\n",
        "print(\"Number of Locations:\", num_locations)\n",
        "print(\"Locations:\", locations)\n",
        "print(\"Depot:\", depot)\n",
        "print(\"Number of Vehicles:\", num_vehicles)"
      ],
      "metadata": {
        "id": "KWk2KjnBP1Vw",
        "colab": {
          "base_uri": "https://localhost:8080/"
        },
        "outputId": "0e298794-f2b7-4eac-a5bb-3add347fbfdf"
      },
      "execution_count": null,
      "outputs": [
        {
          "output_type": "stream",
          "name": "stdout",
          "text": [
            "Number of Locations: 10\n",
            "Locations: [(25, 52), (4, 95), (36, 93), (32, 49), (69, 31), (21, 42), (62, 12), (12, 74), (73, 45), (10, 99)]\n",
            "Depot: (50, 50)\n",
            "Number of Vehicles: 3\n"
          ]
        }
      ]
    },
    {
      "cell_type": "code",
      "source": [
        "# TASK 3 - Genetic Algorithm Setup\n",
        "       # - Figure out how to represent an individual OR encode an individual\n",
        "\n",
        "creator.create(\"FitnessMin\",base.Fitness,weights=(-1.0) )\n",
        "creator.create(\"Individual\", list, fitness=creator.FitnessMin)"
      ],
      "metadata": {
        "id": "EnoNFl4kUDK5"
      },
      "execution_count": null,
      "outputs": []
    },
    {
      "cell_type": "code",
      "source": [
        "#TASK 4 - Starting with the toolbox and tools\n",
        "toolbox = base.Toolbox()\n",
        "toolbox.register(\"indices\", random.sample, range(num_locations), num_locations)\n",
        "toolbox.register(\"individual\",tools.initIterate, creator.Individual, toolbox.indices ) #finish defining how to build an individual)\n",
        "toolbox.register(\"population\", tools.initRepeat, list, toolbox.individual ) #finish defining how to build an population)"
      ],
      "metadata": {
        "id": "eOoNqcJ3SMNT"
      },
      "execution_count": null,
      "outputs": []
    },
    {
      "cell_type": "code",
      "source": [
        "# Task 5 - Fitness evaluation function\n",
        "#Write the fitness evaluation function\n",
        "#Return (total distance, standard deviation)\n",
        "# Define the fitness evaluation function\n",
        "def evalVRP(individual):\n",
        "    total_distance = 0\n",
        "    routes = []\n",
        "    for i in range(num_vehicles):\n",
        "        route = [depot] + [locations[individual[j]] for j in range(i, len(individual), num_vehicles)] + [depot]\n",
        "        routes.append(route)\n",
        "        for k in range(1, len(route)):\n",
        "            total_distance += np.sqrt((route[k][0] - route[k-1][0])**2 + (route[k][1] - route[k-1][1])**2)\n",
        "    stddev = np.std([len(route) for route in routes])\n",
        "    return total_distance, stddev\n",
        "\n",
        "# Register the evaluation function\n",
        "toolbox.register(\"evaluate\", evalVRP)\n",
        "\n",
        "print(\"Evaluate function registered:\", hasattr(toolbox, \"evaluate\"))  # Debugging check\n"
      ],
      "metadata": {
        "id": "3TfZSH0BVcKo",
        "colab": {
          "base_uri": "https://localhost:8080/"
        },
        "outputId": "c1386194-4b06-43e7-909c-3fc519e56158"
      },
      "execution_count": null,
      "outputs": [
        {
          "output_type": "stream",
          "name": "stdout",
          "text": [
            "Evaluate function registered: True\n"
          ]
        }
      ]
    },
    {
      "cell_type": "code",
      "source": [
        "# Task 7 - Configure the genetic operators\n",
        "#HINTS\n",
        "#Select is simpler, try tournament selection or roulette selection. Look up how to add that.\n",
        "#FOR mutation - mutShuffleIndexes\n",
        "#For mate - cxPartialyMatched, cxOrdered\n",
        "toolbox.register(\"mate\", tools.cxOrdered)\n",
        "toolbox.register(\"mutate\", tools.mutShuffleIndexes, indpb=0.2)\n",
        "toolbox.register(\"select\", tools.selTournament, tournsize=3)"
      ],
      "metadata": {
        "id": "Q-Zg08SqZdrg"
      },
      "execution_count": null,
      "outputs": []
    },
    {
      "cell_type": "code",
      "source": [],
      "metadata": {
        "id": "DsjbKA69UqBn"
      },
      "execution_count": null,
      "outputs": []
    },
    {
      "cell_type": "code",
      "source": [
        "# SOLUTION - TASK 8\n",
        "def plot_routes(individual, title=\"Routes\"):\n",
        "    plt.figure()\n",
        "    for (x, y) in locations:\n",
        "        plt.plot(x, y, 'bo')\n",
        "    plt.plot(depot[0], depot[1], 'rs')\n",
        "    for i in range(num_vehicles):\n",
        "        vehicle_route = [depot] + [locations[individual[j]] for j in range(i, len(individual), num_vehicles)] + [depot]\n",
        "        plt.plot(*zip(*vehicle_route), '-', color='b')\n",
        "    plt.title(title)\n",
        "    plt.xlabel('X Coordinate')\n",
        "    plt.ylabel('Y Coordinate')\n",
        "    plt.show()\n"
      ],
      "metadata": {
        "id": "-dfAtJR51Mxn"
      },
      "execution_count": null,
      "outputs": []
    },
    {
      "cell_type": "code",
      "source": [
        "# Running the Genetic Algorithm\n",
        "def main():\n",
        "    random.seed(42)\n",
        "    pop = toolbox.population(n=300)\n",
        "    hof = tools.HallOfFame(1)\n",
        "    stats = tools.Statistics(lambda ind: ind.fitness.values)\n",
        "    toolbox.register(\"evaluate\", evalVRP)\n",
        "    stats.register(\"avg\", np.mean)\n",
        "    stats.register(\"min\", np.min)\n",
        "    algorithms.eaSimple(pop, toolbox, 0.7, 0.2, 30, stats=stats, halloffame=hof)\n",
        "    #Refer eaSimple here - https://deap.readthedocs.io/en/master/api/algo.html\n",
        "    return pop, stats, hof\n",
        "if __name__ == \"__main__\":\n",
        "    # Task 9 - Call the main function, run the algorithm and print the results\n",
        "    final_population, stats, hof = main()\n",
        "    # Print the best individual (optimal solution)\n",
        "    print(\"Best individual (optimal solution):\", hof[0])\n",
        "    print(\"Fitness of the best individual:\", hof[0].fitness.values)\n",
        "    # Visualize the best solution\n",
        "    plot_routes(hof[0], title=\"Optimal Routes\")"
      ],
      "metadata": {
        "id": "F1jqRydvMgVu",
        "colab": {
          "base_uri": "https://localhost:8080/",
          "height": 1000
        },
        "outputId": "8ca93707-7a8b-4978-c19a-d86c71e51ed4"
      },
      "execution_count": null,
      "outputs": [
        {
          "output_type": "stream",
          "name": "stdout",
          "text": [
            "gen\tnevals\tavg    \tmin     \n",
            "0  \t300   \t331.713\t0.471405\n",
            "1  \t218   \t319.053\t0.471405\n",
            "2  \t240   \t315.494\t0.471405\n",
            "3  \t240   \t309.191\t0.471405\n",
            "4  \t233   \t304.725\t0.471405\n",
            "5  \t229   \t303.753\t0.471405\n",
            "6  \t222   \t296.677\t0.471405\n",
            "7  \t239   \t293.239\t0.471405\n",
            "8  \t226   \t296.271\t0.471405\n",
            "9  \t239   \t292.823\t0.471405\n",
            "10 \t233   \t288.795\t0.471405\n",
            "11 \t229   \t286.14 \t0.471405\n",
            "12 \t229   \t286.632\t0.471405\n",
            "13 \t227   \t281.28 \t0.471405\n",
            "14 \t207   \t276.48 \t0.471405\n",
            "15 \t233   \t280.538\t0.471405\n",
            "16 \t227   \t275.531\t0.471405\n",
            "17 \t228   \t276.226\t0.471405\n",
            "18 \t243   \t273.721\t0.471405\n",
            "19 \t237   \t272.674\t0.471405\n",
            "20 \t238   \t269.859\t0.471405\n",
            "21 \t242   \t268.972\t0.471405\n",
            "22 \t224   \t257.805\t0.471405\n",
            "23 \t238   \t255.873\t0.471405\n",
            "24 \t221   \t252.583\t0.471405\n",
            "25 \t234   \t248.369\t0.471405\n",
            "26 \t221   \t241.565\t0.471405\n",
            "27 \t229   \t234.398\t0.471405\n",
            "28 \t217   \t234.458\t0.471405\n",
            "29 \t247   \t231.135\t0.471405\n",
            "30 \t233   \t229.744\t0.471405\n",
            "Best individual (optimal solution): [1, 6, 7, 0, 5, 3, 9, 8, 4, 2]\n",
            "Fitness of the best individual: (421.6676244091349, 0.4714045207910317)\n"
          ]
        },
        {
          "output_type": "display_data",
          "data": {
            "text/plain": [
              "<Figure size 640x480 with 1 Axes>"
            ],
            "image/png": "[encoded data removed]"
          },
          "metadata": {}
        }
      ]
    },
    {
      "cell_type": "code",
      "source": [],
      "metadata": {
        "id": "qBQ4gIZ2dZIV"
      },
      "execution_count": null,
      "outputs": []
    }
  ]
}